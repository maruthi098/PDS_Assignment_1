{
  "nbformat": 4,
  "nbformat_minor": 0,
  "metadata": {
    "colab": {
      "provenance": []
    },
    "kernelspec": {
      "name": "python3",
      "display_name": "Python 3"
    },
    "language_info": {
      "name": "python"
    }
  },
  "cells": [
    {
      "cell_type": "code",
      "execution_count": null,
      "metadata": {
        "id": "QDKI5LE1nJ4Y"
      },
      "outputs": [],
      "source": [
        "import os\n",
        "import numpy as np\n",
        "import pandas as pd\n",
        "import matplotlib.pyplot as plt\n",
        "from matplotlib.lines import Line2D"
      ]
    },
    {
      "cell_type": "code",
      "source": [
        "df = pd.read_csv('/content/question_2/Clean Data/StudentsPerformance_cleaned.csv')"
      ],
      "metadata": {
        "id": "e6CEkJg9o5RQ"
      },
      "execution_count": 58,
      "outputs": []
    },
    {
      "cell_type": "markdown",
      "source": [],
      "metadata": {
        "id": "8LRMP-MdpG6t"
      }
    },
    {
      "cell_type": "code",
      "source": [
        "df.columns = (\n",
        "    df.columns.str.strip().str.lower().str.replace(\" \", \"_\").str.replace(\"-\", \"_\")\n",
        ")\n",
        "def pick(df_cols, *candidates):\n",
        "    for c in candidates:\n",
        "        if c in df_cols:\n",
        "            return c\n",
        "    raise KeyError(f\"None of {candidates} found in columns: {list(df_cols)}\")\n",
        "\n",
        "math_col    = pick(df.columns, \"math_score\", \"maths_score\", \"maths\", \"math\")\n",
        "reading_col = pick(df.columns, \"reading_score\", \"reading\")\n",
        "writing_col = pick(df.columns, \"writing_score\", \"writing\")\n",
        "gender_col  = pick(df.columns, \"gender\", \"sex\")\n",
        "lunch_col   = pick(df.columns, \"lunch\", \"lunch_type\")\n",
        "test_col    = pick(df.columns, \"test_preparation_course\", \"test_prep\", \"test_prep_course\")"
      ],
      "metadata": {
        "id": "NZ0IFpv6pHGz"
      },
      "execution_count": null,
      "outputs": []
    },
    {
      "cell_type": "code",
      "source": [
        "for c in (math_col, reading_col, writing_col):\n",
        "    df[c] = pd.to_numeric(df[c], errors=\"coerce\")"
      ],
      "metadata": {
        "id": "JwrYbyQxpOq1"
      },
      "execution_count": null,
      "outputs": []
    },
    {
      "cell_type": "code",
      "source": [
        "scores = [math_col, reading_col, writing_col]\n",
        "df = df.dropna(subset=scores, how=\"all\").copy()\n",
        "grp = df.groupby([gender_col, lunch_col, test_col])\n",
        "for c in scores:\n",
        "    df[c] = df[c].fillna(grp[c].transform(\"median\"))\n",
        "    df[c] = df[c].fillna(df[c].median())\n"
      ],
      "metadata": {
        "id": "FnUi-caqpQLi"
      },
      "execution_count": null,
      "outputs": []
    },
    {
      "cell_type": "code",
      "source": [
        "FIG_W, FIG_H = 800/100, 600/100  # inches (assuming 100 dpi base)\n",
        "DPI_SAVE = 300\n"
      ],
      "metadata": {
        "id": "-c1OJgmipTZj"
      },
      "execution_count": null,
      "outputs": []
    },
    {
      "cell_type": "code",
      "source": [
        "plt.figure(figsize=(FIG_W, FIG_H))\n",
        "genders = [str(g) for g in df[gender_col].dropna().unique().tolist()]\n",
        "base_pos = np.arange(len(genders)) * 2.0  # spacing between gender groups\n",
        "width = 0.35\n"
      ],
      "metadata": {
        "colab": {
          "base_uri": "https://localhost:8080/",
          "height": 34
        },
        "id": "QYvhECHvpcBv",
        "outputId": "f66896ad-d465-4ada-d096-2f0d69ce8196"
      },
      "execution_count": null,
      "outputs": [
        {
          "output_type": "display_data",
          "data": {
            "text/plain": [
              "<Figure size 800x600 with 0 Axes>"
            ]
          },
          "metadata": {}
        }
      ]
    },
    {
      "cell_type": "code",
      "source": [
        "cleaned_path = os.path.join('/content/question_2/Clean Data', \"StudentsPerformance_cleaned.csv\")\n",
        "df.to_csv(cleaned_path, index=False)\n",
        "\n",
        "print(f\"Cleaned dataset saved to: {cleaned_path}\")"
      ],
      "metadata": {
        "colab": {
          "base_uri": "https://localhost:8080/"
        },
        "id": "dm0vuMilv4JP",
        "outputId": "ac1c61a5-1fc6-4b39-ba59-202e62f30818"
      },
      "execution_count": 54,
      "outputs": [
        {
          "output_type": "stream",
          "name": "stdout",
          "text": [
            "Cleaned dataset saved to: /content/question_2/Clean Data/StudentsPerformance_cleaned.csv\n"
          ]
        }
      ]
    },
    {
      "cell_type": "code",
      "source": [
        "# ---------------- V1: Gender boxplots (math vs reading) ----------------\n",
        "plt.figure(figsize=(FIG_W, FIG_H))\n",
        "\n",
        "# Ensure scores are numeric\n",
        "df[math_col] = pd.to_numeric(df[math_col], errors=\"coerce\")\n",
        "df[reading_col] = pd.to_numeric(df[reading_col], errors=\"coerce\")\n",
        "\n",
        "# Drop rows where both math and reading are NaN\n",
        "df_v1 = df.dropna(subset=[math_col, reading_col], how=\"all\")\n",
        "\n",
        "genders = df_v1[gender_col].dropna().unique().tolist()\n",
        "data_v1 = []\n",
        "labels_v1 = []\n",
        "\n",
        "for g in genders:\n",
        "    sub = df_v1[df_v1[gender_col] == g]\n",
        "    data_v1.append(sub[math_col].values)\n",
        "    data_v1.append(sub[reading_col].values)\n",
        "    labels_v1.append(f\"{g.title()} - Math\")\n",
        "    labels_v1.append(f\"{g.title()} - Reading\")\n",
        "\n",
        "# Plot grouped boxplots\n",
        "bp = plt.boxplot(data_v1, labels=labels_v1, showmeans=True, patch_artist=True)\n",
        "for b in bp[\"boxes\"]:\n",
        "    b.set_alpha(0.3)\n",
        "\n",
        "plt.ylabel(\"Score (0–100)\")\n",
        "plt.title(\"V1: Math vs Reading Scores by Gender — Side-by-Side Boxplots\")\n",
        "plt.xticks(rotation=20)\n",
        "plt.grid(axis=\"y\", alpha=0.25)\n",
        "\n",
        "v1_path = os.path.join('/content/question_2/Result', \"V1_gender_boxplots_fixed.png\")\n",
        "plt.tight_layout()\n",
        "plt.savefig(v1_path, dpi=DPI_SAVE)\n",
        "plt.show()\n"
      ],
      "metadata": {
        "colab": {
          "base_uri": "https://localhost:8080/",
          "height": 542
        },
        "id": "WTRuTi1Xpeur",
        "outputId": "610f5dcd-6530-4461-b6ae-a0ec45bd4d6e"
      },
      "execution_count": 57,
      "outputs": [
        {
          "output_type": "stream",
          "name": "stderr",
          "text": [
            "/tmp/ipython-input-626802133.py:23: MatplotlibDeprecationWarning: The 'labels' parameter of boxplot() has been renamed 'tick_labels' since Matplotlib 3.9; support for the old name will be dropped in 3.11.\n",
            "  bp = plt.boxplot(data_v1, labels=labels_v1, showmeans=True, patch_artist=True)\n"
          ]
        },
        {
          "output_type": "display_data",
          "data": {
            "text/plain": [
              "<Figure size 800x600 with 1 Axes>"
            ],
            "image/png": "[encoded data removed]"
          },
          "metadata": {}
        }
      ]
    },
    {
      "cell_type": "code",
      "source": [
        "plt.figure(figsize=(FIG_W, FIG_H))\n",
        "test_levels = [str(t) for t in df[test_col].fillna(\"Unknown\").astype(str).unique().tolist()]\n",
        "data_v2 = [df.loc[df[test_col].astype(str) == t, math_col].values for t in test_levels]\n",
        "bp2 = plt.boxplot(data_v2, labels=[t.title() for t in test_levels], showmeans=True, patch_artist=True)\n",
        "for b in bp2[\"boxes\"]:\n",
        "    b.set_alpha(0.3)\n",
        "\n",
        "plt.xlabel(\"Test Preparation Course\")\n",
        "plt.ylabel(\"Math Score (0–100)\")\n",
        "plt.title(\"V2: Math Scores by Test Preparation Course (Completed vs None)\")\n",
        "plt.grid(axis=\"y\", alpha=0.25)\n",
        "\n",
        "v2_path = os.path.join('', \"V2_test_prep_math.png\")\n",
        "plt.tight_layout(); plt.savefig(v2_path, dpi=DPI_SAVE); plt.close()"
      ],
      "metadata": {
        "colab": {
          "base_uri": "https://localhost:8080/"
        },
        "id": "f0TdCrAdpqaY",
        "outputId": "62757b52-6ff2-4ec1-ae5a-e0bd0370584e"
      },
      "execution_count": 59,
      "outputs": [
        {
          "output_type": "stream",
          "name": "stderr",
          "text": [
            "/tmp/ipython-input-1181882095.py:4: MatplotlibDeprecationWarning: The 'labels' parameter of boxplot() has been renamed 'tick_labels' since Matplotlib 3.9; support for the old name will be dropped in 3.11.\n",
            "  bp2 = plt.boxplot(data_v2, labels=[t.title() for t in test_levels], showmeans=True, patch_artist=True)\n"
          ]
        }
      ]
    },
    {
      "cell_type": "code",
      "source": [
        "plt.figure(figsize=(FIG_W, FIG_H))\n",
        "means = df[\"overall_avg\"] = df[[math_col, reading_col, writing_col]].mean(axis=1)\n",
        "bars = plt.bar([str(k).title() for k in means.index.tolist()], means.values)\n",
        "plt.xlabel(\"Lunch Type\")\n",
        "plt.ylabel(\"Mean Overall Average (0–100)\")\n",
        "plt.title(\"V3: Mean Overall Performance by Lunch Type\")\n",
        "plt.grid(axis=\"y\", alpha=0.25)\n",
        "\n",
        "for rect in bars:\n",
        "    h = rect.get_height()\n",
        "    plt.text(rect.get_x() + rect.get_width()/2, h + 0.6, f\"{h:.1f}\", ha=\"center\", va=\"bottom\", fontsize=9)\n",
        "\n",
        "v3_path = os.path.join('/content/question_2/Result', \"V3_lunch_overall_avg.png\")\n",
        "plt.tight_layout(); plt.savefig(v3_path, dpi=DPI_SAVE); plt.close()"
      ],
      "metadata": {
        "id": "zTCUM6KEqR2n"
      },
      "execution_count": 60,
      "outputs": []
    },
    {
      "cell_type": "code",
      "source": [
        "plt.figure(figsize=(FIG_W, FIG_H))\n",
        "corr = df[[math_col, reading_col, writing_col]].corr()\n",
        "im = plt.imshow(corr.values, aspect=\"equal\")\n",
        "xt = [c.replace(\"_\", \" \").title() for c in [math_col, reading_col, writing_col]]\n",
        "plt.xticks(range(3), xt)\n",
        "plt.yticks(range(3), xt)\n",
        "plt.title(\"V4: Correlation Heatmap — Math, Reading, Writing\")\n",
        "\n",
        "for i in range(corr.shape[0]):\n",
        "    for j in range(corr.shape[1]):\n",
        "        plt.text(j, i, f\"{corr.values[i, j]:.2f}\", ha=\"center\", va=\"center\")\n",
        "\n",
        "plt.colorbar(im, fraction=0.046, pad=0.04)\n",
        "\n",
        "v4_path = os.path.join('/content/question_2/Result', \"V4_correlation_heatmap.png\")\n",
        "plt.tight_layout(); plt.savefig(v4_path, dpi=DPI_SAVE); plt.close()"
      ],
      "metadata": {
        "id": "GWBtuxsgq2Nu"
      },
      "execution_count": 61,
      "outputs": []
    },
    {
      "cell_type": "code",
      "source": [
        "plt.figure(figsize=(FIG_W, FIG_H))\n",
        "groups = df[test_col].fillna(\"Unknown\").astype(str)\n",
        "unique_groups = [str(u) for u in groups.unique().tolist()]\n",
        "\n",
        "for name in unique_groups:\n",
        "    mask = (groups == name)\n",
        "    x = df.loc[mask, reading_col].values\n",
        "    y = df.loc[mask, math_col].values\n",
        "    plt.scatter(x, y, alpha=0.7, s=18, label=f\"{name.title()} (n={mask.sum()})\")\n",
        "    if x.size >= 2:\n",
        "        m, b = np.polyfit(x, y, 1)\n",
        "        xs = np.linspace(x.min(), x.max(), 100)\n",
        "        ys = m * xs + b\n",
        "        plt.plot(xs, ys)\n",
        "\n",
        "plt.xlabel(\"Reading Score (0–100)\")\n",
        "plt.ylabel(\"Math Score (0–100)\")\n",
        "plt.title(\"V5: Math vs Reading with Best-Fit Lines by Test Preparation Course\")\n",
        "plt.grid(alpha=0.25)\n",
        "plt.legend(title=\"Test Preparation Course\", fontsize=8)\n",
        "\n",
        "v5_path = os.path.join('/content/question_2/Result', \"V5_math_vs_reading_trendlines.png\")\n",
        "plt.tight_layout(); plt.savefig(v5_path, dpi=DPI_SAVE); plt.close()\n",
        "\n",
        "print(\"Saved figures:\")\n",
        "print(v1_path)\n",
        "print(v2_path)\n",
        "print(v3_path)\n",
        "print(v4_path)\n",
        "print(v5_path)"
      ],
      "metadata": {
        "colab": {
          "base_uri": "https://localhost:8080/"
        },
        "id": "gc7GQatErIEv",
        "outputId": "302b2110-2f87-4393-eed2-d1707ce04524"
      },
      "execution_count": 62,
      "outputs": [
        {
          "output_type": "stream",
          "name": "stdout",
          "text": [
            "Saved figures:\n",
            "/content/question_2/Result/V1_gender_boxplots_fixed.png\n",
            "V2_test_prep_math.png\n",
            "/content/question_2/Result/V3_lunch_overall_avg.png\n",
            "/content/question_2/Result/V4_correlation_heatmap.png\n",
            "/content/question_2/Result/V5_math_vs_reading_trendlines.png\n"
          ]
        }
      ]
    }
  ]
}